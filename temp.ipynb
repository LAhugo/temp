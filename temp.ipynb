{
 "cells": [
  {
   "cell_type": "code",
   "execution_count": 1,
   "metadata": {},
   "outputs": [
    {
     "name": "stderr",
     "output_type": "stream",
     "text": [
      "C:\\Users\\mdejesus\\AppData\\Local\\Continuum\\anaconda3\\lib\\site-packages\\fuzzywuzzy\\fuzz.py:35: UserWarning: Using slow pure-python SequenceMatcher. Install python-Levenshtein to remove this warning\n",
      "  warnings.warn('Using slow pure-python SequenceMatcher. Install python-Levenshtein to remove this warning')\n"
     ]
    }
   ],
   "source": [
    "from requests.auth import HTTPBasicAuth\n",
    "from requests import post\n",
    "from requests import get\n",
    "import json\n",
    "import pandas as pd\n",
    "import numpy as np\n",
    "from time import sleep\n",
    "import warnings\n",
    "from fuzzywuzzy import fuzz\n",
    "warnings.filterwarnings(\"ignore\")\n",
    "%matplotlib inline\n",
    "\n",
    "def flatten_json(y):\n",
    "    out = {}\n",
    "\n",
    "    def flatten(x, name=''):\n",
    "        if type(x) is dict:\n",
    "            for a in x:\n",
    "                flatten(x[a], name + a + '_')\n",
    "        elif type(x) is list:\n",
    "            i = 0\n",
    "            for a in x:\n",
    "                flatten(a, name + str(i) + '_')\n",
    "                i += 1\n",
    "        else:\n",
    "            out[name[:-1]] = x\n",
    "\n",
    "    flatten(y)\n",
    "    return out\n",
    "\n",
    "import os\n",
    "import glob\n",
    "\n",
    "def ReadJsonFiles(filename):\n",
    "    with open(filename) as infile:\n",
    "        d = json.load(infile)\n",
    "        return flatten_json(d)"
   ]
  },
  {
   "cell_type": "code",
   "execution_count": 2,
   "metadata": {},
   "outputs": [],
   "source": [
    "WaveCustomer = pd.read_excel('C:/Users/mdejesus/TeleSignResponses/Wave/WaveCustomerRecord.xlsx')"
   ]
  },
  {
   "cell_type": "code",
   "execution_count": 3,
   "metadata": {},
   "outputs": [],
   "source": [
    "WaveBatch = pd.read_csv('C:/Users/mdejesus/TeleSignResponses/Wave/WaveBatchTeleSign.csv')"
   ]
  },
  {
   "cell_type": "code",
   "execution_count": 4,
   "metadata": {},
   "outputs": [],
   "source": [
    "WaveVerified = pd.merge(WaveCustomer, WaveBatch, how='left', left_on='CustomerKey', right_on='CustomerKey' )"
   ]
  },
  {
   "cell_type": "markdown",
   "metadata": {},
   "source": [
    "##Contact information fields:\n",
    "contact_firstname, contact_lastname, contact_zip_postal_code\n",
    "'FirstName', 'LastName', 'Address1', 'ZIPCode'"
   ]
  },
  {
   "cell_type": "code",
   "execution_count": 5,
   "metadata": {},
   "outputs": [],
   "source": [
    "WaveVerified['ContactName'] = WaveVerified.contact_firstname + ' ' + WaveVerified.contact_lastname\n",
    "WaveVerified['CustomerName'] = WaveVerified.FirstName + ' ' + WaveVerified.LastName"
   ]
  },
  {
   "cell_type": "code",
   "execution_count": 12,
   "metadata": {},
   "outputs": [],
   "source": [
    "WaveVerified['ContactNotAvail'] = np.where(WaveVerified.ContactName.isna(),1,0)"
   ]
  },
  {
   "cell_type": "code",
   "execution_count": 13,
   "metadata": {},
   "outputs": [],
   "source": [
    "def get_ratio(row):\n",
    "    if row['ContactNotAvail'] == 1:\n",
    "        return 0\n",
    "    else:\n",
    "        return fuzz.token_sort_ratio(row['ContactName'], row['CustomerName'])\n"
   ]
  },
  {
   "cell_type": "code",
   "execution_count": 14,
   "metadata": {},
   "outputs": [],
   "source": [
    "WaveVerified['NameMatch'] = WaveVerified.apply(get_ratio, axis=1)"
   ]
  },
  {
   "cell_type": "code",
   "execution_count": 3,
   "metadata": {},
   "outputs": [
    {
     "ename": "NameError",
     "evalue": "name 'WaveVerified' is not defined",
     "output_type": "error",
     "traceback": [
      "\u001b[1;31m---------------------------------------------------------------------------\u001b[0m",
      "\u001b[1;31mNameError\u001b[0m                                 Traceback (most recent call last)",
      "\u001b[1;32m<ipython-input-3-f4d17f0504a1>\u001b[0m in \u001b[0;36m<module>\u001b[1;34m()\u001b[0m\n\u001b[1;32m----> 1\u001b[1;33m \u001b[0mWaveVerified\u001b[0m\u001b[1;33m[\u001b[0m\u001b[1;34m'NameMatch'\u001b[0m\u001b[1;33m]\u001b[0m\u001b[1;33m.\u001b[0m\u001b[0mhist\u001b[0m\u001b[1;33m(\u001b[0m\u001b[1;33m)\u001b[0m\u001b[1;33m\u001b[0m\u001b[0m\n\u001b[0m",
      "\u001b[1;31mNameError\u001b[0m: name 'WaveVerified' is not defined"
     ]
    }
   ],
   "source": [
    "WaveVerified['NameMatch'].hist()"
   ]
  },
  {
   "cell_type": "code",
   "execution_count": 16,
   "metadata": {},
   "outputs": [
    {
     "data": {
      "text/plain": [
       "0.796"
      ]
     },
     "execution_count": 16,
     "metadata": {},
     "output_type": "execute_result"
    }
   ],
   "source": [
    "sum(WaveVerified.NameMatch >= 50) / sum(WaveVerified.NameMatch >= 0)"
   ]
  },
  {
   "cell_type": "code",
   "execution_count": 1,
   "metadata": {
    "scrolled": true
   },
   "outputs": [
    {
     "ename": "NameError",
     "evalue": "name 'WaveVerified' is not defined",
     "output_type": "error",
     "traceback": [
      "\u001b[1;31m---------------------------------------------------------------------------\u001b[0m",
      "\u001b[1;31mNameError\u001b[0m                                 Traceback (most recent call last)",
      "\u001b[1;32m<ipython-input-1-28e5c2e2770d>\u001b[0m in \u001b[0;36m<module>\u001b[1;34m()\u001b[0m\n\u001b[1;32m----> 1\u001b[1;33m \u001b[0mWaveVerified\u001b[0m\u001b[1;33m[\u001b[0m\u001b[0mWaveVerified\u001b[0m\u001b[1;33m.\u001b[0m\u001b[0mNameMatch\u001b[0m \u001b[1;33m>\u001b[0m \u001b[1;36m0\u001b[0m\u001b[1;33m]\u001b[0m\u001b[1;33m[\u001b[0m\u001b[1;33m[\u001b[0m\u001b[1;34m'ContactName'\u001b[0m\u001b[1;33m,\u001b[0m\u001b[1;34m'CustomerName'\u001b[0m\u001b[1;33m,\u001b[0m\u001b[1;34m'NameMatch'\u001b[0m\u001b[1;33m]\u001b[0m\u001b[1;33m]\u001b[0m\u001b[1;33m.\u001b[0m\u001b[0msort_values\u001b[0m\u001b[1;33m(\u001b[0m\u001b[1;34m'NameMatch'\u001b[0m\u001b[1;33m)\u001b[0m\u001b[1;33m\u001b[0m\u001b[0m\n\u001b[0m",
      "\u001b[1;31mNameError\u001b[0m: name 'WaveVerified' is not defined"
     ]
    }
   ],
   "source": [
    "WaveVerified[WaveVerified.NameMatch > 0][['ContactName','CustomerName','NameMatch']].sort_values('NameMatch')"
   ]
  },
  {
   "cell_type": "code",
   "execution_count": 19,
   "metadata": {},
   "outputs": [],
   "source": [
    "path = 'C:/Users/mdejesus/TeleSignResponses/'\n",
    "\n",
    "#path = 'C:/Users/mdejesus/TeleSignResponses/Wave'\n",
    "\n",
    "MPPhoneScores = pd.DataFrame(ReadJsonFiles(filename) for filename in glob.glob(os.path.join(path,'resp_*.txt')))\n",
    "   \n",
    "MPPhoneID = pd.DataFrame(ReadJsonFiles(filename) for filename in glob.glob(os.path.join(path,'resppid_*.txt')))\n"
   ]
  },
  {
   "cell_type": "code",
   "execution_count": 20,
   "metadata": {},
   "outputs": [],
   "source": [
    "droplist = ['blocklisting_block_code',\n",
    " 'blocklisting_block_description',\n",
    " 'blocklisting_blocked',\n",
    " 'carrier_name',\n",
    " 'location_city',\n",
    " 'location_coordinates_latitude',\n",
    " 'location_coordinates_longitude',\n",
    " 'location_country_iso2',\n",
    " 'location_country_iso3',\n",
    " 'location_country_name',\n",
    " 'location_county',\n",
    " 'location_metro_code',\n",
    " 'location_state',\n",
    " 'location_time_zone_name',\n",
    " 'location_time_zone_utc_offset_max',\n",
    " 'location_time_zone_utc_offset_min',\n",
    " 'location_zip',\n",
    " 'numbering_cleansing_call_cleansed_code',\n",
    " 'numbering_cleansing_call_country_code',\n",
    " 'numbering_cleansing_call_max_length',\n",
    " 'numbering_cleansing_call_min_length',\n",
    " 'numbering_cleansing_call_phone_number',\n",
    " 'numbering_cleansing_sms_cleansed_code',\n",
    " 'numbering_cleansing_sms_country_code',\n",
    " 'numbering_cleansing_sms_max_length',\n",
    " 'numbering_cleansing_sms_min_length',\n",
    " 'numbering_cleansing_sms_phone_number',\n",
    " 'numbering_original_country_code',\n",
    " 'numbering_original_phone_number',\n",
    " 'phone_type_code',\n",
    " 'phone_type_description',\n",
    " 'reference_id',\n",
    " 'status_code',\n",
    " 'status_description',\n",
    " 'status_updated_on']\n",
    "\n",
    "MPPhoneIDa = MPPhoneID.drop(columns=droplist)"
   ]
  },
  {
   "cell_type": "code",
   "execution_count": 21,
   "metadata": {},
   "outputs": [],
   "source": [
    "MPTelesignData = pd.merge(MPPhoneScores, MPPhoneIDa, how='left', left_on='numbering_original_complete_phone_number', right_on='numbering_original_complete_phone_number')"
   ]
  },
  {
   "cell_type": "code",
   "execution_count": 22,
   "metadata": {},
   "outputs": [],
   "source": [
    "MPRegData = pd.read_excel('MPRegData.xlsx')"
   ]
  },
  {
   "cell_type": "code",
   "execution_count": 99,
   "metadata": {},
   "outputs": [
    {
     "data": {
      "text/plain": [
       "Index(['blocklisting_block_code', 'blocklisting_block_description',\n",
       "       'blocklisting_blocked', 'carrier_name', 'external_id', 'location_city',\n",
       "       'location_coordinates_latitude', 'location_coordinates_longitude',\n",
       "       'location_country_iso2', 'location_country_iso3',\n",
       "       'location_country_name', 'location_county', 'location_metro_code',\n",
       "       'location_state', 'location_time_zone_name',\n",
       "       'location_time_zone_utc_offset_max',\n",
       "       'location_time_zone_utc_offset_min', 'location_zip',\n",
       "       'numbering_cleansing_call_cleansed_code',\n",
       "       'numbering_cleansing_call_country_code',\n",
       "       'numbering_cleansing_call_max_length',\n",
       "       'numbering_cleansing_call_min_length',\n",
       "       'numbering_cleansing_call_phone_number',\n",
       "       'numbering_cleansing_sms_cleansed_code',\n",
       "       'numbering_cleansing_sms_country_code',\n",
       "       'numbering_cleansing_sms_max_length',\n",
       "       'numbering_cleansing_sms_min_length',\n",
       "       'numbering_cleansing_sms_phone_number',\n",
       "       'numbering_original_complete_phone_number',\n",
       "       'numbering_original_country_code', 'numbering_original_phone_number',\n",
       "       'phone_type_code', 'phone_type_description', 'reference_id',\n",
       "       'risk_level', 'risk_recommendation', 'risk_score', 'status_code',\n",
       "       'status_description', 'status_updated_on', 'contact',\n",
       "       'contact_address1', 'contact_address2', 'contact_address3',\n",
       "       'contact_address4', 'contact_city', 'contact_country',\n",
       "       'contact_firstname', 'contact_lastname', 'contact_state_province',\n",
       "       'contact_zip_postal_code', 'errors_0_code', 'errors_0_description',\n",
       "       'resource_uri', 'sub_resource'],\n",
       "      dtype='object')"
      ]
     },
     "execution_count": 99,
     "metadata": {},
     "output_type": "execute_result"
    }
   ],
   "source": []
  },
  {
   "cell_type": "code",
   "execution_count": 23,
   "metadata": {},
   "outputs": [],
   "source": [
    "MPRegData['numbering_original_phone_number'] = MPRegData.PhoneNumber.astype('str')"
   ]
  },
  {
   "cell_type": "code",
   "execution_count": 2,
   "metadata": {
    "scrolled": true
   },
   "outputs": [
    {
     "ename": "NameError",
     "evalue": "name 'MPRegData' is not defined",
     "output_type": "error",
     "traceback": [
      "\u001b[1;31m---------------------------------------------------------------------------\u001b[0m",
      "\u001b[1;31mNameError\u001b[0m                                 Traceback (most recent call last)",
      "\u001b[1;32m<ipython-input-2-84d05055bd46>\u001b[0m in \u001b[0;36m<module>\u001b[1;34m()\u001b[0m\n\u001b[1;32m----> 1\u001b[1;33m \u001b[0mMPRegData\u001b[0m\u001b[1;33m[\u001b[0m\u001b[1;33m[\u001b[0m\u001b[1;34m'FirstName'\u001b[0m\u001b[1;33m,\u001b[0m\u001b[1;34m'FirstName.1'\u001b[0m\u001b[1;33m,\u001b[0m\u001b[1;34m'LastName'\u001b[0m\u001b[1;33m,\u001b[0m\u001b[1;34m'LastName.1'\u001b[0m\u001b[1;33m]\u001b[0m\u001b[1;33m]\u001b[0m\u001b[1;33m\u001b[0m\u001b[0m\n\u001b[0m",
      "\u001b[1;31mNameError\u001b[0m: name 'MPRegData' is not defined"
     ]
    }
   ],
   "source": [
    "MPRegData[['FirstName','FirstName.1','LastName','LastName.1']]"
   ]
  },
  {
   "cell_type": "code",
   "execution_count": 25,
   "metadata": {},
   "outputs": [],
   "source": [
    "MPRegDataCont = MPRegData[['numbering_original_phone_number','CustomerKey','FirstName','LastName']].drop_duplicates().reset_index()"
   ]
  },
  {
   "cell_type": "code",
   "execution_count": 26,
   "metadata": {},
   "outputs": [],
   "source": [
    "MPVerifiData = pd.merge(MPTelesignData, MPRegDataCont, how='inner', right_on='numbering_original_phone_number', left_on='numbering_original_phone_number')"
   ]
  },
  {
   "cell_type": "code",
   "execution_count": 27,
   "metadata": {},
   "outputs": [],
   "source": [
    "MPVerifiData['ContactName'] = MPVerifiData.contact_firstname + ' ' + MPVerifiData.contact_lastname\n",
    "MPVerifiData['CustomerName'] = MPVerifiData.FirstName + ' ' + MPVerifiData.LastName"
   ]
  },
  {
   "cell_type": "code",
   "execution_count": 28,
   "metadata": {},
   "outputs": [],
   "source": [
    "MPVerifiData['ContactNotAvail'] = np.where(MPVerifiData.ContactName.isna(),1,0)"
   ]
  },
  {
   "cell_type": "code",
   "execution_count": 29,
   "metadata": {},
   "outputs": [],
   "source": [
    "MPVerifiData = MPVerifiData.drop_duplicates()"
   ]
  },
  {
   "cell_type": "code",
   "execution_count": 30,
   "metadata": {},
   "outputs": [],
   "source": [
    "MPVerifiData['NameMatch'] = MPVerifiData.apply(get_ratio, axis=1)"
   ]
  },
  {
   "cell_type": "code",
   "execution_count": 4,
   "metadata": {},
   "outputs": [
    {
     "ename": "NameError",
     "evalue": "name 'MPVerifiData' is not defined",
     "output_type": "error",
     "traceback": [
      "\u001b[1;31m---------------------------------------------------------------------------\u001b[0m",
      "\u001b[1;31mNameError\u001b[0m                                 Traceback (most recent call last)",
      "\u001b[1;32m<ipython-input-4-d7e60d826436>\u001b[0m in \u001b[0;36m<module>\u001b[1;34m()\u001b[0m\n\u001b[1;32m----> 1\u001b[1;33m \u001b[0mMPVerifiData\u001b[0m\u001b[1;33m[\u001b[0m\u001b[0mMPVerifiData\u001b[0m\u001b[1;33m.\u001b[0m\u001b[0mContactNotAvail\u001b[0m \u001b[1;33m==\u001b[0m \u001b[1;36m0\u001b[0m\u001b[1;33m]\u001b[0m\u001b[1;33m[\u001b[0m\u001b[1;34m'NameMatch'\u001b[0m\u001b[1;33m]\u001b[0m\u001b[1;33m.\u001b[0m\u001b[0mhist\u001b[0m\u001b[1;33m(\u001b[0m\u001b[1;33m)\u001b[0m\u001b[1;33m\u001b[0m\u001b[0m\n\u001b[0m",
      "\u001b[1;31mNameError\u001b[0m: name 'MPVerifiData' is not defined"
     ]
    }
   ],
   "source": [
    "MPVerifiData[MPVerifiData.ContactNotAvail == 0]['NameMatch'].hist()"
   ]
  },
  {
   "cell_type": "code",
   "execution_count": 33,
   "metadata": {},
   "outputs": [
    {
     "data": {
      "text/plain": [
       "0.3485178727114211"
      ]
     },
     "execution_count": 33,
     "metadata": {},
     "output_type": "execute_result"
    }
   ],
   "source": [
    "sum(MPVerifiData[MPVerifiData.ContactNotAvail == 0]['NameMatch'] >= 50) /sum(MPVerifiData[MPVerifiData.ContactNotAvail == 0]['NameMatch'] >= 0)"
   ]
  },
  {
   "cell_type": "code",
   "execution_count": null,
   "metadata": {},
   "outputs": [],
   "source": []
  }
 ],
 "metadata": {
  "kernelspec": {
   "display_name": "Python 3",
   "language": "python",
   "name": "python3"
  },
  "language_info": {
   "codemirror_mode": {
    "name": "ipython",
    "version": 3
   },
   "file_extension": ".py",
   "mimetype": "text/x-python",
   "name": "python",
   "nbconvert_exporter": "python",
   "pygments_lexer": "ipython3",
   "version": "3.6.4"
  }
 },
 "nbformat": 4,
 "nbformat_minor": 2
}
